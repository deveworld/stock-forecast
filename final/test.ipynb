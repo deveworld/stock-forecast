{
 "cells": [
  {
   "cell_type": "markdown",
   "id": "5fc8fed9",
   "metadata": {},
   "source": [
    "# Init"
   ]
  },
  {
   "cell_type": "code",
   "execution_count": null,
   "id": "6c26358a",
   "metadata": {},
   "outputs": [],
   "source": []
  },
  {
   "cell_type": "code",
   "execution_count": 25,
   "id": "39f01002",
   "metadata": {},
   "outputs": [],
   "source": [
    "# List of tickers for Korean stocks\n",
    "tickers = {\n",
    "    \"삼성전자\": \"005930\", \"SK\": \"034730\", \"한화\": \"000880\",\n",
    "    \"두산\": \"000150\", \"기아\": \"000270\", \"현대차\": \"005380\",\n",
    "    \"LG\": \"003550\", \"NAVER\": \"035420\", \"카카오\": \"035720\", \"롯데지주\": \"004990\"\n",
    "}\n",
    "\n",
    "# Date range for the stock data\n",
    "start_date = \"20200101\"\n",
    "end_date = \"20250101\""
   ]
  },
  {
   "cell_type": "code",
   "execution_count": 26,
   "id": "fde9db60",
   "metadata": {},
   "outputs": [
    {
     "data": {
      "text/plain": [
       "('삼성전자', '005930', '20200101', '20250101')"
      ]
     },
     "execution_count": 26,
     "metadata": {},
     "output_type": "execute_result"
    }
   ],
   "source": [
    "# Target ticker for analysis\n",
    "# TARGET_TICKER = \"삼성전자\"\n",
    "TARGET_TICKER = list(tickers.keys())[0]\n",
    "ticker_code = tickers[TARGET_TICKER]\n",
    "TARGET_TICKER, ticker_code, start_date, end_date"
   ]
  },
  {
   "cell_type": "code",
   "execution_count": 27,
   "id": "33b1da4d",
   "metadata": {},
   "outputs": [
    {
     "data": {
      "text/plain": [
       "<torch._C.Generator at 0x1cd21c99a90>"
      ]
     },
     "execution_count": 27,
     "metadata": {},
     "output_type": "execute_result"
    }
   ],
   "source": [
    "import numpy as np\n",
    "import torch\n",
    "\n",
    "# Set random seeds for reproducibility\n",
    "np.random.seed(42)\n",
    "torch.manual_seed(42)"
   ]
  },
  {
   "cell_type": "code",
   "execution_count": 28,
   "id": "d297cd59",
   "metadata": {},
   "outputs": [
    {
     "name": "stdout",
     "output_type": "stream",
     "text": [
      "Loading dataset from 005930_dataset/ directory...\n",
      "Sequence length: 10\n",
      "Ticker: 삼성전자 (005930)\n",
      "Loaded - Train windows: 727, Val windows: 236, Test windows: 236\n",
      "Dataset loaded successfully!\n"
     ]
    }
   ],
   "source": [
    "# Load the train, val, and test sets (list of DataFrames) from parquet files\n",
    "import os\n",
    "import json\n",
    "import pandas as pd\n",
    "\n",
    "dataset_dir = f\"{ticker_code}_dataset\"\n",
    "train = []\n",
    "val = []\n",
    "test = []\n",
    "\n",
    "if os.path.exists(dataset_dir):\n",
    "    print(f\"Loading dataset from {dataset_dir}/ directory...\")\n",
    "    \n",
    "    # Load metadata\n",
    "    with open(f\"{dataset_dir}/metadata.json\", 'r') as f:\n",
    "        metadata = json.load(f)\n",
    "    \n",
    "    SEQ_LENGTH = metadata[\"seq_length\"]\n",
    "    print(f\"Sequence length: {SEQ_LENGTH}\")\n",
    "    print(f\"Ticker: {metadata['target_ticker']} ({metadata['ticker_code']})\")\n",
    "    assert SEQ_LENGTH > 0, \"Sequence length must be greater than 0\"\n",
    "    assert ticker_code == metadata['ticker_code'], \"Ticker code mismatch in metadata\"\n",
    "    assert TARGET_TICKER == metadata['target_ticker'], \"Target ticker mismatch in metadata\"\n",
    "    \n",
    "    # Load and reconstruct train set\n",
    "    train_combined = pd.read_parquet(f\"{dataset_dir}/train.parquet\")\n",
    "    for window_id in range(metadata[\"train_windows\"]):\n",
    "        window_df = train_combined[train_combined['window_id'] == window_id].drop('window_id', axis=1).reset_index(drop=True)\n",
    "        train.append(window_df)\n",
    "    \n",
    "    # Load and reconstruct validation set\n",
    "    val_combined = pd.read_parquet(f\"{dataset_dir}/val.parquet\")\n",
    "    for window_id in range(metadata[\"val_windows\"]):\n",
    "        window_df = val_combined[val_combined['window_id'] == window_id].drop('window_id', axis=1).reset_index(drop=True)\n",
    "        val.append(window_df)\n",
    "    \n",
    "    # Load and reconstruct test set\n",
    "    test_combined = pd.read_parquet(f\"{dataset_dir}/test.parquet\")\n",
    "    for window_id in range(metadata[\"test_windows\"]):\n",
    "        window_df = test_combined[test_combined['window_id'] == window_id].drop('window_id', axis=1).reset_index(drop=True)\n",
    "        test.append(window_df)\n",
    "    \n",
    "    print(f\"Loaded - Train windows: {len(train)}, Val windows: {len(val)}, Test windows: {len(test)}\")\n",
    "    print(\"Dataset loaded successfully!\")\n",
    "else:\n",
    "    print(f\"Dataset directory {dataset_dir} not found. Please run the dataset creation cells first.\")\n"
   ]
  },
  {
   "cell_type": "code",
   "execution_count": 29,
   "id": "d393f131",
   "metadata": {},
   "outputs": [
    {
     "data": {
      "text/plain": [
       "0    55500.0\n",
       "1    55800.0\n",
       "2    56800.0\n",
       "3    58600.0\n",
       "4    59500.0\n",
       "5    60000.0\n",
       "6    60000.0\n",
       "7    59000.0\n",
       "8    60700.0\n",
       "9    61300.0\n",
       "Name: target, dtype: float64"
      ]
     },
     "execution_count": 29,
     "metadata": {},
     "output_type": "execute_result"
    }
   ],
   "source": [
    "train[0][\"target\"]"
   ]
  },
  {
   "cell_type": "code",
   "execution_count": null,
   "id": "5f704573",
   "metadata": {},
   "outputs": [
    {
     "data": {
      "text/html": [
       "<div>\n",
       "<style scoped>\n",
       "    .dataframe tbody tr th:only-of-type {\n",
       "        vertical-align: middle;\n",
       "    }\n",
       "\n",
       "    .dataframe tbody tr th {\n",
       "        vertical-align: top;\n",
       "    }\n",
       "\n",
       "    .dataframe thead th {\n",
       "        text-align: right;\n",
       "    }\n",
       "</style>\n",
       "<table border=\"1\" class=\"dataframe\">\n",
       "  <thead>\n",
       "    <tr style=\"text-align: right;\">\n",
       "      <th></th>\n",
       "      <th>prompt</th>\n",
       "      <th>target</th>\n",
       "    </tr>\n",
       "  </thead>\n",
       "  <tbody>\n",
       "    <tr>\n",
       "      <th>0</th>\n",
       "      <td>Here is the Stock data of 삼성전자 (005930) for th...</td>\n",
       "      <td>61300</td>\n",
       "    </tr>\n",
       "    <tr>\n",
       "      <th>1</th>\n",
       "      <td>Here is the Stock data of 삼성전자 (005930) for th...</td>\n",
       "      <td>62400</td>\n",
       "    </tr>\n",
       "    <tr>\n",
       "      <th>2</th>\n",
       "      <td>Here is the Stock data of 삼성전자 (005930) for th...</td>\n",
       "      <td>61400</td>\n",
       "    </tr>\n",
       "    <tr>\n",
       "      <th>3</th>\n",
       "      <td>Here is the Stock data of 삼성전자 (005930) for th...</td>\n",
       "      <td>62300</td>\n",
       "    </tr>\n",
       "    <tr>\n",
       "      <th>4</th>\n",
       "      <td>Here is the Stock data of 삼성전자 (005930) for th...</td>\n",
       "      <td>60800</td>\n",
       "    </tr>\n",
       "    <tr>\n",
       "      <th>...</th>\n",
       "      <td>...</td>\n",
       "      <td>...</td>\n",
       "    </tr>\n",
       "    <tr>\n",
       "      <th>722</th>\n",
       "      <td>Here is the Stock data of 삼성전자 (005930) for th...</td>\n",
       "      <td>59500</td>\n",
       "    </tr>\n",
       "    <tr>\n",
       "      <th>723</th>\n",
       "      <td>Here is the Stock data of 삼성전자 (005930) for th...</td>\n",
       "      <td>58600</td>\n",
       "    </tr>\n",
       "    <tr>\n",
       "      <th>724</th>\n",
       "      <td>Here is the Stock data of 삼성전자 (005930) for th...</td>\n",
       "      <td>58000</td>\n",
       "    </tr>\n",
       "    <tr>\n",
       "      <th>725</th>\n",
       "      <td>Here is the Stock data of 삼성전자 (005930) for th...</td>\n",
       "      <td>59100</td>\n",
       "    </tr>\n",
       "    <tr>\n",
       "      <th>726</th>\n",
       "      <td>Here is the Stock data of 삼성전자 (005930) for th...</td>\n",
       "      <td>58100</td>\n",
       "    </tr>\n",
       "  </tbody>\n",
       "</table>\n",
       "<p>727 rows × 2 columns</p>\n",
       "</div>"
      ],
      "text/plain": [
       "                                                prompt  target\n",
       "0    Here is the Stock data of 삼성전자 (005930) for th...   61300\n",
       "1    Here is the Stock data of 삼성전자 (005930) for th...   62400\n",
       "2    Here is the Stock data of 삼성전자 (005930) for th...   61400\n",
       "3    Here is the Stock data of 삼성전자 (005930) for th...   62300\n",
       "4    Here is the Stock data of 삼성전자 (005930) for th...   60800\n",
       "..                                                 ...     ...\n",
       "722  Here is the Stock data of 삼성전자 (005930) for th...   59500\n",
       "723  Here is the Stock data of 삼성전자 (005930) for th...   58600\n",
       "724  Here is the Stock data of 삼성전자 (005930) for th...   58000\n",
       "725  Here is the Stock data of 삼성전자 (005930) for th...   59100\n",
       "726  Here is the Stock data of 삼성전자 (005930) for th...   58100\n",
       "\n",
       "[727 rows x 2 columns]"
      ]
     },
     "execution_count": 38,
     "metadata": {},
     "output_type": "execute_result"
    }
   ],
   "source": [
    "FORECAST_LENGTH = 1\n",
    "train_combined = []\n",
    "\n",
    "for train_df in train:\n",
    "    last_target = train_df[\"target\"].iloc[-1]\n",
    "\n",
    "    # Make prompt with the train_df\n",
    "    datas = train_df.drop(columns=[\"target\"]).to_dict(orient='records')\n",
    "    datas_str = \"\"\n",
    "    for data in datas:\n",
    "        datas_str += str(data[\"date\"]).split(\" \")[0] + \"\\t\"\n",
    "        for i, (k, v) in enumerate(data.items()):\n",
    "            # v = round(v, 2) if isinstance(v, (int, float)) else str(v)\n",
    "            data[k] = round(v, 2) if isinstance(v, (int, float)) else str(v)\n",
    "        datas_str += \"\\t\".join([f\"{k}: {str(v).replace('\\n', '')}\" for k, v in data.items() if k != \"date\"]) + \"\\n\"\n",
    "    datas_str = datas_str.strip()\n",
    "    prompt_str = f\"\"\"Here is the Stock data of {TARGET_TICKER} ({ticker_code}) for the past {SEQ_LENGTH} days:\n",
    "I will now give you data for the past {SEQ_LENGTH} recorded dates, and please help me forecast the data for next {FORECAST_LENGTH} recorded dates. The data is as follows:\n",
    "```\n",
    "{datas_str}\n",
    "```\n",
    "Please give me the close data for the next {FORECAST_LENGTH} recorded dates, remember to give me the close data. \n",
    "You must first conduct reasoning inside <think> …</think>. \n",
    "When you have the final answer, you can output the answer inside <answer>…</answer> and the reason of the answer inside <reason>…</reason>.\n",
    "\n",
    "Example output:\n",
    "```\n",
    "<think>...</think>\n",
    "<answer>20XX-XX-XX\\tclose: XXXXX\n",
    "20XX-XX-XX\\tclose: XXXXX\n",
    "... (continue for {FORECAST_LENGTH} days)</answer>\n",
    "<reason>...</reason>\n",
    "```\n",
    "\"\"\"\n",
    "\n",
    "    train_combined.append({\n",
    "        \"prompt\": prompt_str,\n",
    "        \"target\": int(last_target),\n",
    "    })\n",
    "\n",
    "# Convert to DataFrame\n",
    "train_combined_pd = pd.DataFrame(train_combined)\n",
    "train_combined_pd"
   ]
  },
  {
   "cell_type": "code",
   "execution_count": null,
   "id": "0dafdd85",
   "metadata": {},
   "outputs": [],
   "source": [
    "train_combined_pd.to_parquet(f\"{dataset_dir}/train_combined.parquet\", index=False)"
   ]
  },
  {
   "cell_type": "code",
   "execution_count": null,
   "id": "aee214f7",
   "metadata": {},
   "outputs": [
    {
     "data": {
      "text/html": [
       "<div>\n",
       "<style scoped>\n",
       "    .dataframe tbody tr th:only-of-type {\n",
       "        vertical-align: middle;\n",
       "    }\n",
       "\n",
       "    .dataframe tbody tr th {\n",
       "        vertical-align: top;\n",
       "    }\n",
       "\n",
       "    .dataframe thead th {\n",
       "        text-align: right;\n",
       "    }\n",
       "</style>\n",
       "<table border=\"1\" class=\"dataframe\">\n",
       "  <thead>\n",
       "    <tr style=\"text-align: right;\">\n",
       "      <th></th>\n",
       "      <th>prompt</th>\n",
       "      <th>target</th>\n",
       "    </tr>\n",
       "  </thead>\n",
       "  <tbody>\n",
       "    <tr>\n",
       "      <th>0</th>\n",
       "      <td>Here is the Stock data of 삼성전자 (005930) for th...</td>\n",
       "      <td>61300</td>\n",
       "    </tr>\n",
       "    <tr>\n",
       "      <th>1</th>\n",
       "      <td>Here is the Stock data of 삼성전자 (005930) for th...</td>\n",
       "      <td>62400</td>\n",
       "    </tr>\n",
       "    <tr>\n",
       "      <th>2</th>\n",
       "      <td>Here is the Stock data of 삼성전자 (005930) for th...</td>\n",
       "      <td>61400</td>\n",
       "    </tr>\n",
       "    <tr>\n",
       "      <th>3</th>\n",
       "      <td>Here is the Stock data of 삼성전자 (005930) for th...</td>\n",
       "      <td>62300</td>\n",
       "    </tr>\n",
       "    <tr>\n",
       "      <th>4</th>\n",
       "      <td>Here is the Stock data of 삼성전자 (005930) for th...</td>\n",
       "      <td>60800</td>\n",
       "    </tr>\n",
       "    <tr>\n",
       "      <th>...</th>\n",
       "      <td>...</td>\n",
       "      <td>...</td>\n",
       "    </tr>\n",
       "    <tr>\n",
       "      <th>722</th>\n",
       "      <td>Here is the Stock data of 삼성전자 (005930) for th...</td>\n",
       "      <td>59500</td>\n",
       "    </tr>\n",
       "    <tr>\n",
       "      <th>723</th>\n",
       "      <td>Here is the Stock data of 삼성전자 (005930) for th...</td>\n",
       "      <td>58600</td>\n",
       "    </tr>\n",
       "    <tr>\n",
       "      <th>724</th>\n",
       "      <td>Here is the Stock data of 삼성전자 (005930) for th...</td>\n",
       "      <td>58000</td>\n",
       "    </tr>\n",
       "    <tr>\n",
       "      <th>725</th>\n",
       "      <td>Here is the Stock data of 삼성전자 (005930) for th...</td>\n",
       "      <td>59100</td>\n",
       "    </tr>\n",
       "    <tr>\n",
       "      <th>726</th>\n",
       "      <td>Here is the Stock data of 삼성전자 (005930) for th...</td>\n",
       "      <td>58100</td>\n",
       "    </tr>\n",
       "  </tbody>\n",
       "</table>\n",
       "<p>727 rows × 2 columns</p>\n",
       "</div>"
      ],
      "text/plain": [
       "                                                prompt  target\n",
       "0    Here is the Stock data of 삼성전자 (005930) for th...   61300\n",
       "1    Here is the Stock data of 삼성전자 (005930) for th...   62400\n",
       "2    Here is the Stock data of 삼성전자 (005930) for th...   61400\n",
       "3    Here is the Stock data of 삼성전자 (005930) for th...   62300\n",
       "4    Here is the Stock data of 삼성전자 (005930) for th...   60800\n",
       "..                                                 ...     ...\n",
       "722  Here is the Stock data of 삼성전자 (005930) for th...   59500\n",
       "723  Here is the Stock data of 삼성전자 (005930) for th...   58600\n",
       "724  Here is the Stock data of 삼성전자 (005930) for th...   58000\n",
       "725  Here is the Stock data of 삼성전자 (005930) for th...   59100\n",
       "726  Here is the Stock data of 삼성전자 (005930) for th...   58100\n",
       "\n",
       "[727 rows x 2 columns]"
      ]
     },
     "execution_count": 40,
     "metadata": {},
     "output_type": "execute_result"
    }
   ],
   "source": [
    "train_combined_pd = pd.read_parquet(f\"{dataset_dir}/train_combined.parquet\")\n",
    "train_combined_pd"
   ]
  },
  {
   "cell_type": "code",
   "execution_count": null,
   "id": "4ea39ee2",
   "metadata": {},
   "outputs": [],
   "source": [
    "from openai import OpenAI\n",
    "client = OpenAI(\n",
    "  base_url=\"https://openrouter.ai/api/v1\",\n",
    "  api_key=\"sk-or-v1-CENSORED\"  # Replace with your actual API key,\n",
    ")"
   ]
  },
  {
   "cell_type": "code",
   "execution_count": 45,
   "id": "33ca495e",
   "metadata": {},
   "outputs": [],
   "source": [
    "import re \n",
    "\n",
    "def get_forecast(prompt):\n",
    "    completion = client.chat.completions.create(\n",
    "      model=\"deepseek/deepseek-r1-0528:free\",\n",
    "      messages=[\n",
    "        {\n",
    "          \"role\": \"user\",\n",
    "          \"content\": prompt\n",
    "        }\n",
    "      ]\n",
    "    )\n",
    "    result = str(completion.choices[0].message.content)\n",
    "    # Extract the <reason>...</reason> content\n",
    "    reason_match = re.search(r'<reason>(.*?)</reason>', result, re.DOTALL)\n",
    "    if not reason_match:\n",
    "        raise ValueError(f\"No valid <reason> section found in the response: {result}\")\n",
    "    reason_content = reason_match.group(1).strip()\n",
    "    \n",
    "    # Extract <answer>...</answer> content\n",
    "    answer_pattern = r'<answer>(.*?)</answer>'\n",
    "    answer_match = re.search(answer_pattern, result, re.DOTALL)\n",
    "    if not answer_match:\n",
    "        raise ValueError(f\"No valid <answer> section found in the response: {result}\")\n",
    "    \n",
    "    answer = answer_match.group(1).strip()\n",
    "    lines = answer.split('\\n')\n",
    "    forecast = {}\n",
    "    for line in lines:\n",
    "        parts = line.split('\\t')\n",
    "        if len(parts) >= 2:\n",
    "            date = parts[0].strip()\n",
    "            close_value = parts[1].split(':')[1].strip()\n",
    "            forecast[date] = float(close_value)\n",
    "\n",
    "    return reason_content, forecast"
   ]
  },
  {
   "cell_type": "code",
   "execution_count": null,
   "id": "0a8ff775",
   "metadata": {},
   "outputs": [
    {
     "name": "stdout",
     "output_type": "stream",
     "text": [
      "Here is the Stock data of 삼성전자 (005930) for the past 10 days:\n",
      "I will now give you data for the past 10 recorded dates, and please help me forecast the data for next 1 recorded dates. The data is as follows:\n",
      "```\n",
      "2020-01-03\topen: 56000\thigh: 56600\tlow: 54900\tclose: 55500\tvolume: 15422255\tBPS: 35342\tPER: 8.59\tPBR: 1.57\tEPS: 6461\tDIV: 2.55\tDPS: 1416\tinstitution: -123332624300\tother_corporation: -5130936300\tindividual: 66485169500\tforeign: 61978391100\tinstitution_volume: -2228329\tother_corporation_volume: -91483\tindividual_volume: 1199681\tforeign_volume: 1120131\tshorting_volume: 218704\tbuy_volume: 15422255\tshorting_ratio: 1.42\tkospi_close: 2176.46\texchange_rate: 1165.15\tus_10y_yield: 1.8\tnews: ['삼성전자, CES2020서 게이밍 모니터 ‘오디세이’ 신모델 첫 공개 - Samsung Newsroom' \"삼성전자, 최고 기술 전문가 '삼성명장' 선발 - 전자부품 전문 미디어 디일렉\" '삼성전자, 새로운 콘셉트의 생활가전 선보인다 - 인더스트리뉴스' \"삼성전자, 'CES 2020'서 큐브 냉장고 등 新라이프스타일 가전 공개 - 서울파이낸스\" \"삼성 '진짜 베젤 제로'···QLED TV 테두리를 완전히 없앴다 - 중앙일보\" '삼성전자, 태블릿노트북 ‘갤럭시북플렉스알파’를 90만 원대 미국 출시 - 비즈니스포스트' \"삼성전자 '큐브' 냉장고에 '신발관리기'까지, 올 상반기 출시 - 톱데일리\" '[CES 2020]삼성전자, 맥주냉장고·신발관리기 공개 - 서울경제' \"삼성전자 '반성' 또 '반성'... 이재용 부회장 운명은? - 팍스경제TV\" '삼성 김현석 \"새 10년은 경험의 시대...살기 좋은 세상이 혁신\" - 지디넷코리아']\tmacd: 23.93\tmacd_signal: 4.79\trsi: 100.0\tbb_hband: 55650.0\tbb_lband: 55050.0\tbb_pband: 0.75\tbb_wband: 1.08\tobv: 28415483\n",
      "2020-01-06\topen: 54900\thigh: 55600\tlow: 54600\tclose: 55500\tvolume: 10278951\tBPS: 35342\tPER: 8.59\tPBR: 1.57\tEPS: 6461\tDIV: 2.55\tDPS: 1416\tinstitution: -66328642600\tother_corporation: 209967000\tindividual: 23109555500\tforeign: 43009120100\tinstitution_volume: -1199654\tother_corporation_volume: 3796\tindividual_volume: 418722\tforeign_volume: 777136\tshorting_volume: 167348\tbuy_volume: 10278951\tshorting_ratio: 1.63\tkospi_close: 2155.07\texchange_rate: 1167.49\tus_10y_yield: 1.81\tnews: ['삼성전자가 열어갈 미래는? CES 2020 키노트 요약정리 - Samsung Newsroom' '삼성전자, 소비자 경험 혁신할 AI·5G 기반 미래 기술 대거 공개 - 뉴스와이어' '글로벌 車 디자이너 인생 2막…삼성전자 컨설팅부터 하이힐 제작까지 각양각색 - 모터그래프' \"삼성전자가 말하는 '경험의 시대' 의미는? - 톱데일리\" \"[CES2020] 삼성전자, 공 모양 다용도 로봇 '볼리' 공개 - 시사저널e\" '김현석 사장 \"잘 했어, 볼리\"…삼성전자, 반려로봇 최초 공개 - 한국경제' '삼성전자 \"\\'모든 곳에 스크린\\' 있는 시대 온다...TV 개념 넘을 것\" - 뉴스핌' '삼성전자, 올해 5G 스마트폰 4500만대 이상 출하 계획 - 전자부품 전문 미디어 디일렉' '삼성 김현석, 케어로봇 \\'볼리\\'와 CES 연설 \"인간중심 혁신\" - 연합뉴스' \"[CES 2020 프리뷰] 삼성전자, 개인-홈-도시 삶의 경험 변화 '한눈에' - 지디넷코리아\"]\tmacd: 42.41\tmacd_signal: 12.31\trsi: 100.0\tbb_hband: 55682.84\tbb_lband: 55117.16\tbb_pband: 0.68\tbb_wband: 1.02\tobv: 38694434\n",
      "2020-01-07\topen: 55700\thigh: 56400\tlow: 55600\tclose: 55800\tvolume: 10009778\tBPS: 35342\tPER: 8.64\tPBR: 1.58\tEPS: 6461\tDIV: 2.54\tDPS: 1416\tinstitution: 2971900200\tother_corporation: -416560800\tindividual: -722044800\tforeign: -1833294600\tinstitution_volume: 51896\tother_corporation_volume: -7458\tindividual_volume: -10139\tforeign_volume: -34299\tshorting_volume: 142717\tbuy_volume: 10009778\tshorting_ratio: 1.43\tkospi_close: 2175.54\texchange_rate: 1166.21\tus_10y_yield: 1.83\tnews: ['삼성전자가 열어갈 미래는? CES 2020 키노트 요약정리 - Samsung Newsroom' \"삼성전자가 말하는 '경험의 시대' 의미는? - 톱데일리\" \"삼성전자, 하만과 개발한 차량용 '디지털 콕핏' CES서 공개 - 연합뉴스\" \"[CES2020] 삼성전자, 공 모양 다용도 로봇 '볼리' 공개 - 시사저널e\" '김현석 사장 \"잘 했어, 볼리\"…삼성전자, 반려로봇 최초 공개 - 한국경제' '삼성전자, 올해 5G 스마트폰 4500만대 이상 출하 계획 - 전자부품 전문 미디어 디일렉' '삼성은 어떻게 노조를 와해했나 - 시사IN' '[CES 2020] 삼성전자가 CES에서 굴려올린 작은 공 ‘볼리’ - 바이라인네트워크' '삼성전자, 올 6~7월 첫 로봇 출시…가격은 세탁기 수준 - 노컷뉴스' \"[CES 2020 프리뷰] 삼성전자, 개인-홈-도시 삶의 경험 변화 '한눈에' - 지디넷코리아\"]\tmacd: 80.33\tmacd_signal: 25.92\trsi: 100.0\tbb_hband: 55924.26\tbb_lband: 55075.74\tbb_pband: 0.85\tbb_wband: 1.53\tobv: 48704212\n",
      "2020-01-08\topen: 56200\thigh: 57400\tlow: 55900\tclose: 56800\tvolume: 23501171\tBPS: 35342\tPER: 8.79\tPBR: 1.61\tEPS: 6461\tDIV: 2.49\tDPS: 1416\tinstitution: 4221083100\tother_corporation: -11444581500\tindividual: -234778050700\tforeign: 242001549100\tinstitution_volume: 73413\tother_corporation_volume: -201951\tindividual_volume: -4130647\tforeign_volume: 4259185\tshorting_volume: 642430\tbuy_volume: 23501171\tshorting_ratio: 2.73\tkospi_close: 2151.31\texchange_rate: 1170.61\tus_10y_yield: 1.87\tnews: ['“미래에서 온 게이밍 모니터” 삼성 ‘오디세이’ 디자인 스토리 - Samsung Newsroom' \"삼성전자 사상 최고가 경신…45년만에 주가 1000배 'UP' - 머니투데이\" '삼성전자, 디지털프라자 20주년 고객감사 대축제 실시 - 인더스트리뉴스' \"삼성전자, 하만과 개발한 차량용 '디지털 콕핏' CES서 공개 - 연합뉴스\" '삼성은 어떻게 노조를 와해했나 - 시사IN' '애플 주가 비싼데, 삼성전자는 왜 쌀까 - 한국경제' '[CES 2020] 삼성전자가 CES에서 굴려올린 작은 공 ‘볼리’ - 바이라인네트워크' '[CES2020] 삼성전자, 내년 BMW에 5G 통신장비 첫 공급 - 시사저널e' '삼성전자, 올 6~7월 첫 로봇 출시…가격은 세탁기 수준 - 노컷뉴스' \"‘디스플레이가 8개나?‘ 삼성전자가 개발한 '디지털 콕핏', 어떤차에 장착? - 엠투데이\"]\tmacd: 188.9\tmacd_signal: 58.51\trsi: 100.0\tbb_hband: 56867.07\tbb_lband: 54652.93\tbb_pband: 0.97\tbb_wband: 3.97\tobv: 72205383\n",
      "2020-01-09\topen: 58400\thigh: 58600\tlow: 57400\tclose: 58600\tvolume: 24102579\tBPS: 35342\tPER: 9.07\tPBR: 1.66\tEPS: 6461\tDIV: 2.42\tDPS: 1416\tinstitution: -135036047800\tother_corporation: -7772851300\tindividual: -72444657000\tforeign: 215253556100\tinstitution_volume: -2302970\tother_corporation_volume: -133873\tindividual_volume: -1239050\tforeign_volume: 3675893\tshorting_volume: 923731\tbuy_volume: 24102579\tshorting_ratio: 3.83\tkospi_close: 2186.45\texchange_rate: 1158.63\tus_10y_yield: 1.85\tnews: ['“미래에서 온 게이밍 모니터” 삼성 ‘오디세이’ 디자인 스토리 - Samsung Newsroom' \"삼성전자 액면분할 전 2000억 '몰빵' 슈퍼개미 근황은… - 한국경제\" \"삼성전자 사상 최고가 경신…45년만에 주가 1000배 'UP' - 머니투데이\" '삼성전자, 디지털프라자 20주년 고객감사 대축제 실시 - 인더스트리뉴스' '스마트홈 플랫폼: 삼성전자 ‘스마트씽즈(SmartThings)’ - 경남뉴스' '[영상/CES2020] 공처럼 구르는 삼성봇 ‘볼리’ 직접 보니 - 시사저널e' '삼성전자, 연예인 갤럭시폰 해킹 \"계정 유출·도용 추정\" - 서울파이낸스' '첨단 디스플레이 기술 총집합! ‘CES 2020’ 빛낸 놀라운 디스플레이 기술들 - 삼성디스플레이 뉴스룸' '10만원이 1억원 된 삼성전자 주식, 얼마나 더 진격하나 - 인사이트코리아' \"[CES 2020] 삼성 C랩 스타트업 혁신작 '주목' - 지디넷코리아\"]\tmacd: 415.4\tmacd_signal: 129.89\trsi: 100.0\tbb_hband: 58579.01\tbb_lband: 53887.65\tbb_pband: 1.0\tbb_wband: 8.34\tobv: 96307962\n",
      "2020-01-10\topen: 58800\thigh: 59700\tlow: 58300\tclose: 59500\tvolume: 16000170\tBPS: 35342\tPER: 9.21\tPBR: 1.68\tEPS: 6461\tDIV: 2.38\tDPS: 1416\tinstitution: -174669517900\tother_corporation: -767989200\tindividual: 78806133200\tforeign: 96631373900\tinstitution_volume: -2954194\tother_corporation_volume: -12674\tindividual_volume: 1338888\tforeign_volume: 1627980\tshorting_volume: 804530\tbuy_volume: 16000170\tshorting_ratio: 5.03\tkospi_close: 2206.39\texchange_rate: 1161.18\tus_10y_yield: 1.83\tnews: [\"삼성전자 액면분할 전 2000억 '몰빵' 슈퍼개미 근황은… - 한국경제\" '스마트홈 플랫폼: 삼성전자 ‘스마트씽즈(SmartThings)’ - 경남뉴스' '삼성전자, 연예인 갤럭시폰 해킹 \"계정 유출·도용 추정\" - 서울파이낸스' '10만원이 1억원 된 삼성전자 주식, 얼마나 더 진격하나 - 인사이트코리아' '삼성전자 \"주진모 스마트폰 해킹... 갤럭시⋅클라우드 문제 아냐\" - 조선비즈 - Chosunbiz' '삼성전자 “주진모 사건, 클라우드 해킹 아닌 크리덴셜 스터핑” - 보안뉴스' '삼성전자 “연예인 스마트폰 해킹, 클라우드 보안 문제 아니다” - 소비자경제' '연예인 갤럭시폰 해킹 논란 확산…삼성 \"클라우드 문제 아냐\" - 지디넷코리아' \"주진모 사태로 커진 '해킹' 공포···애플이 삼성보다 더 안전? - 중앙일보\" '[잇츠IT] 삼성은 왜 ‘볼리’를 만들었을까 - 머니S - 머니S']\tmacd: 659.92\tmacd_signal: 235.9\trsi: 100.0\tbb_hband: 59853.23\tbb_lband: 53546.77\tbb_pband: 0.94\tbb_wband: 11.12\tobv: 112308132\n",
      "2020-01-13\topen: 59600\thigh: 60000\tlow: 59100\tclose: 60000\tvolume: 11359139\tBPS: 35342\tPER: 9.29\tPBR: 1.7\tEPS: 6461\tDIV: 2.36\tDPS: 1416\tinstitution: -90332291400\tother_corporation: 534123300\tindividual: 4660429500\tforeign: 85137738600\tinstitution_volume: -1512823\tother_corporation_volume: 8874\tindividual_volume: 79282\tforeign_volume: 1424667\tshorting_volume: 359364\tbuy_volume: 11359139\tshorting_ratio: 3.16\tkospi_close: 2229.26\texchange_rate: 1156.25\tus_10y_yield: 1.85\tnews: ['삼성전자, 미국 5G·4G LTE 망설계·최적화 전문기업 텔레월드 솔루션즈 인수 - Samsung Newsroom' \"삼성전자 '6만원' 액면분할 전으로 환산하면? - 머니투데이\" '삼성전자, 사흘째 사상 최고가…액면분할 전 기준 300만원 넘었다 - 매일경제' \"삼성전자, 美네트워크 업체 'TWS' 인수…5G 사업 속도 - 한국경제\" '[줌인]은마 96배 오를때 삼성전자 804배 뛰었다 - 이데일리' \"삼성전자, 로봇 '볼리'에 최신 비전센서 탑재… '케어봇'으로 진화 - 이투데이\" '삼성전자, 미국 TWS 인수… 북미 5G 시장 확대 전략 - 시사위크' '“삼성 내부고발 시스템 인사평가와 연계해야” - 한겨레' '삼성전자, 준법실천 서약식 개최 - Samsung Newsroom' '삼성전자, 20년간 ′매출 10조 클럽′ 수성…1조원 기업은 갑절↑ - KPI뉴스']\tmacd: 883.86\tmacd_signal: 365.49\trsi: 100.0\tbb_hband: 60781.88\tbb_lband: 53443.12\tbb_pband: 0.89\tbb_wband: 12.85\tobv: 123667271\n",
      "2020-01-14\topen: 60400\thigh: 61000\tlow: 59900\tclose: 60000\tvolume: 16906295\tBPS: 35342\tPER: 9.29\tPBR: 1.7\tEPS: 6461\tDIV: 2.36\tDPS: 1416\tinstitution: -100968188500\tother_corporation: 19685610900\tindividual: 60502578500\tforeign: 20779999100\tinstitution_volume: -1666086\tother_corporation_volume: 324574\tindividual_volume: 996924\tforeign_volume: 344588\tshorting_volume: 592804\tbuy_volume: 16906295\tshorting_ratio: 3.51\tkospi_close: 2238.88\texchange_rate: 1156.28\tus_10y_yield: 1.82\tnews: ['삼성전자, 미국 5G·4G LTE 망설계·최적화 전문기업 텔레월드 솔루션즈 인수 - Samsung Newsroom' \"삼성전자 '6만원' 액면분할 전으로 환산하면? - 머니투데이\" \"삼성전자, 美네트워크 업체 'TWS' 인수…5G 사업 속도 - 한국경제\" '삼성전자, 2020년형 무풍에어컨·무풍큐브 출시 - 인더스트리뉴스' '올해 여름, 당신이 삼성전자 무풍 에어컨을 선택하는 이유 - 톱데일리' \"삼성전자, 로봇 '볼리'에 최신 비전센서 탑재… '케어봇'으로 진화 - 이투데이\" '삼성전자, 미국 TWS 인수… 북미 5G 시장 확대 전략 - 시사위크' \"삼성전자, '무풍에어컨'·'무풍큐브' 신제품 공개···인공지능·필터 성능 강화 - 서울파이낸스\" '반도체 매출 1위 올라선 인텔, 29% 하락한 삼성전자 2위로 - 테크월드뉴스' '삼성전자, 2019 반도체 매출 순위 인텔에 역전 - 아이씨엔매거진']\tmacd: 1049.24\tmacd_signal: 502.24\trsi: 100.0\tbb_hband: 61340.02\tbb_lband: 53526.64\tbb_pband: 0.83\tbb_wband: 13.6\tobv: 140573566\n",
      "2020-01-15\topen: 59500\thigh: 59600\tlow: 58900\tclose: 59000\tvolume: 14300928\tBPS: 35342\tPER: 9.13\tPBR: 1.67\tEPS: 6461\tDIV: 2.4\tDPS: 1416\tinstitution: 14294345200\tother_corporation: 3931918800\tindividual: 157764229800\tforeign: -175990493800\tinstitution_volume: 244147\tother_corporation_volume: 66504\tindividual_volume: 2663405\tforeign_volume: -2974056\tshorting_volume: 446097\tbuy_volume: 14300928\tshorting_ratio: 3.12\tkospi_close: 2230.98\texchange_rate: 1156.84\tus_10y_yield: 1.79\tnews: ['삼성전자, 2020년형 ‘무풍에어컨’·‘무풍큐브’ 공개 - Samsung Newsroom' '삼성전자, 2020년형 무풍에어컨·무풍큐브 출시 - 인더스트리뉴스' '삼성성우회 신임 회장에 이순동 전 삼성전자 사장 - 머니투데이' '쿠첸 대표에 삼성전자 출신 박재순, 오너 이대희는 부방으로 이동 - 비즈니스포스트' '저학년 자녀에 안성맞춤, 삼성전자19만원대 갤럭시 A10e 출시 - 중앙일보' '올해 여름, 당신이 삼성전자 무풍 에어컨을 선택하는 이유 - 톱데일리' \"삼성전자 법인세 세율…'라이벌' 인텔의 2.4배 - 한국경제\" \"삼성전자, '무풍에어컨'·'무풍큐브' 신제품 공개···인공지능·필터 성능 강화 - 서울파이낸스\" '쿠첸, 삼성전자 출신 박재순 신임 대표이사 선임 - 연합뉴스' '반도체 매출 1위 올라선 인텔, 29% 하락한 삼성전자 2위로 - 테크월드뉴스']\tmacd: 1087.08\tmacd_signal: 619.21\trsi: 77.97\tbb_hband: 61413.56\tbb_lband: 53766.44\tbb_pband: 0.68\tbb_wband: 13.28\tobv: 126272638\n",
      "2020-01-16\topen: 59100\thigh: 60700\tlow: 59000\tclose: 60700\tvolume: 14381774\tBPS: 35342\tPER: 9.39\tPBR: 1.72\tEPS: 6461\tDIV: 2.33\tDPS: 1416\tinstitution: -40086638000\tother_corporation: 571541600\tindividual: -28747679600\tforeign: 68262776000\tinstitution_volume: -676031\tother_corporation_volume: 9660\tindividual_volume: -473041\tforeign_volume: 1139412\tshorting_volume: 787040\tbuy_volume: 14381774\tshorting_ratio: 5.47\tkospi_close: 2248.05\texchange_rate: 1160.86\tus_10y_yield: 1.81\tnews: ['삼성전자, ‘갤럭시 A10e’ 출시 - Samsung Newsroom' '[Who Is ?] 김기남 삼성전자 대표이사 부회장 - 비즈니스포스트' '저학년 자녀에 안성맞춤, 삼성전자19만원대 갤럭시 A10e 출시 - 중앙일보' '삼성전자, 키즈폰 ‘갤럭시 A10e’ 출시… 19만9천원 - 조선비즈 - Chosunbiz' \"삼성전자 '자녀용' 갤럭시A10e 출시...19만원 - 전자부품 전문 미디어 디일렉\" \"삼성전자, 자녀용 스마트폰 '갤럭시 A10e' 출시 - 더밸류뉴스\" \"삼성전자 법인세 세율…'라이벌' 인텔의 2.4배 - 한국경제\" '쿠첸, 삼성전자 출신 박재순 신임 대표이사 선임 - 연합뉴스' '삼성전자, 자녀 위한 스마트폰 ‘갤럭시 A10e’ 출시 - 테크월드뉴스' '쿠첸, 삼성전자 출신 박재순 신임 대표이사 선임 - 지디넷코리아']\tmacd: 1239.95\tmacd_signal: 743.35\trsi: 84.3\tbb_hband: 61933.26\tbb_lband: 53812.19\tbb_pband: 0.85\tbb_wband: 14.03\tobv: 140654412\n",
      "```\n",
      "Please give me the close data for the next 1 recorded dates, remember to give me the close data. \n",
      "You must first conduct reasoning inside <think> …</think>. \n",
      "When you have the final answer, you can output the answer inside <answer>…</answer> and the reason of the answer inside <reason>…</reason>.\n",
      "\n",
      "Example output:\n",
      "```\n",
      "<think>...</think>\n",
      "<answer>20XX-XX-XX\tclose: XXXXX\n",
      "20XX-XX-XX\tclose: XXXXX\n",
      "... (continue for 1 days)</answer>\n",
      "<reason>...</reason>\n",
      "```\n",
      "\n"
     ]
    },
    {
     "ename": "",
     "evalue": "",
     "output_type": "error",
     "traceback": [
      "\u001b[1;31mThe Kernel crashed while executing code in the current cell or a previous cell. \n",
      "\u001b[1;31mPlease review the code in the cell(s) to identify a possible cause of the failure. \n",
      "\u001b[1;31mClick <a href='https://aka.ms/vscodeJupyterKernelCrash'>here</a> for more info. \n",
      "\u001b[1;31mView Jupyter <a href='command:jupyter.viewOutput'>log</a> for further details."
     ]
    }
   ],
   "source": [
    "print(train_combined_pd.iloc[0][\"prompt\"])"
   ]
  },
  {
   "cell_type": "code",
   "execution_count": null,
   "id": "9f242767",
   "metadata": {},
   "outputs": [
    {
     "data": {
      "text/plain": [
       "({'2020-01-17': 61200.0}, 61300)"
      ]
     },
     "execution_count": 47,
     "metadata": {},
     "output_type": "execute_result"
    }
   ],
   "source": [
    "# Example usage\n",
    "reason_content, forecast = get_forecast(train_combined_pd.iloc[0][\"prompt\"])\n",
    "forecast, int(train_combined_pd.iloc[0][\"target\"])"
   ]
  },
  {
   "cell_type": "code",
   "execution_count": null,
   "id": "606080d2",
   "metadata": {},
   "outputs": [],
   "source": [
    "import requests\n",
    "\n",
    "def get_ticker(company_name):\n",
    "    yfinance = \"https://query2.finance.yahoo.com/v1/finance/search\"\n",
    "    user_agent = 'Mozilla/5.0 (Windows NT 10.0; Win64; x64) AppleWebKit/537.36 (KHTML, like Gecko) Chrome/108.0.0.0 Safari/537.36'\n",
    "    params = {\"q\": company_name, \"quotes_count\": 1, \"country\": \"United States\"}\n",
    "\n",
    "    res = requests.get(url=yfinance, params=params, headers={'User-Agent': user_agent})\n",
    "    data = res.json()\n",
    "    company_code = data['quotes'][0]['symbol']\n",
    "    return company_code"
   ]
  },
  {
   "cell_type": "code",
   "execution_count": null,
   "id": "abfaeb0f",
   "metadata": {},
   "outputs": [],
   "source": [
    "get_ticker(\"Samsung Electronics\")"
   ]
  }
 ],
 "metadata": {
  "kernelspec": {
   "display_name": "base",
   "language": "python",
   "name": "python3"
  },
  "language_info": {
   "codemirror_mode": {
    "name": "ipython",
    "version": 3
   },
   "file_extension": ".py",
   "mimetype": "text/x-python",
   "name": "python",
   "nbconvert_exporter": "python",
   "pygments_lexer": "ipython3",
   "version": "3.12.3"
  }
 },
 "nbformat": 4,
 "nbformat_minor": 5
}
