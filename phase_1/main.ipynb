{
 "cells": [
  {
   "cell_type": "markdown",
   "id": "82e6fae8",
   "metadata": {},
   "source": [
    "# Init"
   ]
  },
  {
   "cell_type": "code",
   "execution_count": 234,
   "id": "d660024a",
   "metadata": {},
   "outputs": [],
   "source": [
    "# List of tickers for Korean stocks\n",
    "tickers = {\n",
    "    \"삼성전자\": \"005930\", \"SK\": \"034730\", \"한화\": \"000880\",\n",
    "    \"두산\": \"000150\", \"기아\": \"000270\", \"현대차\": \"005380\",\n",
    "    \"LG\": \"003550\", \"NAVER\": \"035420\", \"카카오\": \"035720\", \"롯데지주\": \"004990\"\n",
    "}\n",
    "\n",
    "# Date range for the stock data\n",
    "start_date = \"20200101\"\n",
    "end_date = \"20250101\""
   ]
  },
  {
   "cell_type": "code",
   "execution_count": 235,
   "id": "72d92b19",
   "metadata": {},
   "outputs": [],
   "source": [
    "# Target ticker for analysis\n",
    "TARGET_TICKER = \"삼성전자\"\n",
    "ticker_code = tickers[TARGET_TICKER]"
   ]
  },
  {
   "cell_type": "code",
   "execution_count": 236,
   "id": "4ec8db34",
   "metadata": {},
   "outputs": [
    {
     "data": {
      "text/plain": [
       "<torch._C.Generator at 0x225c7926850>"
      ]
     },
     "execution_count": 236,
     "metadata": {},
     "output_type": "execute_result"
    }
   ],
   "source": [
    "import numpy as np\n",
    "import torch\n",
    "\n",
    "# Set random seeds for reproducibility\n",
    "np.random.seed(42)\n",
    "torch.manual_seed(42)"
   ]
  },
  {
   "cell_type": "code",
   "execution_count": 237,
   "id": "d4b980c1",
   "metadata": {},
   "outputs": [],
   "source": [
    "regression_model = True\n",
    "target_column_name = \"target\""
   ]
  },
  {
   "cell_type": "markdown",
   "id": "d3eb068a",
   "metadata": {},
   "source": [
    "# Train the model"
   ]
  },
  {
   "cell_type": "markdown",
   "id": "a9412279",
   "metadata": {},
   "source": [
    "### Load datasets"
   ]
  },
  {
   "cell_type": "code",
   "execution_count": 238,
   "id": "427ed041",
   "metadata": {},
   "outputs": [
    {
     "name": "stdout",
     "output_type": "stream",
     "text": [
      "Loading dataset from 005930_dataset/ directory...\n",
      "Sequence length: 10\n",
      "Ticker: 삼성전자 (005930)\n",
      "Loaded - Train windows: 728, Val windows: 236, Test windows: 236\n",
      "Dataset loaded successfully!\n"
     ]
    }
   ],
   "source": [
    "# Load the train, val, and test sets (list of DataFrames) from parquet files\n",
    "import os\n",
    "import json\n",
    "import pandas as pd\n",
    "\n",
    "dataset_dir = f\"{ticker_code}_dataset\"\n",
    "train = []\n",
    "val = []\n",
    "test = []\n",
    "\n",
    "if os.path.exists(dataset_dir):\n",
    "    print(f\"Loading dataset from {dataset_dir}/ directory...\")\n",
    "    \n",
    "    # Load metadata\n",
    "    with open(f\"{dataset_dir}/metadata.json\", 'r') as f:\n",
    "        metadata = json.load(f)\n",
    "    \n",
    "    SEQ_LENGTH = metadata[\"seq_length\"]\n",
    "    print(f\"Sequence length: {SEQ_LENGTH}\")\n",
    "    print(f\"Ticker: {metadata['target_ticker']} ({metadata['ticker_code']})\")\n",
    "    assert SEQ_LENGTH > 0, \"Sequence length must be greater than 0\"\n",
    "    assert ticker_code == metadata['ticker_code'], \"Ticker code mismatch in metadata\"\n",
    "    assert TARGET_TICKER == metadata['target_ticker'], \"Target ticker mismatch in metadata\"\n",
    "    \n",
    "    # Load and reconstruct train set\n",
    "    train_combined = pd.read_parquet(f\"{dataset_dir}/train.parquet\")\n",
    "    for window_id in range(metadata[\"train_windows\"]):\n",
    "        window_df = train_combined[train_combined['window_id'] == window_id].drop('window_id', axis=1).reset_index(drop=True)\n",
    "        train.append(window_df)\n",
    "    \n",
    "    # Load and reconstruct validation set\n",
    "    val_combined = pd.read_parquet(f\"{dataset_dir}/val.parquet\")\n",
    "    for window_id in range(metadata[\"val_windows\"]):\n",
    "        window_df = val_combined[val_combined['window_id'] == window_id].drop('window_id', axis=1).reset_index(drop=True)\n",
    "        val.append(window_df)\n",
    "    \n",
    "    # Load and reconstruct test set\n",
    "    test_combined = pd.read_parquet(f\"{dataset_dir}/test.parquet\")\n",
    "    for window_id in range(metadata[\"test_windows\"]):\n",
    "        window_df = test_combined[test_combined['window_id'] == window_id].drop('window_id', axis=1).reset_index(drop=True)\n",
    "        test.append(window_df)\n",
    "    \n",
    "    print(f\"Loaded - Train windows: {len(train)}, Val windows: {len(val)}, Test windows: {len(test)}\")\n",
    "    print(\"Dataset loaded successfully!\")\n",
    "else:\n",
    "    print(f\"Dataset directory {dataset_dir} not found. Please run the dataset creation cells first.\")\n"
   ]
  },
  {
   "cell_type": "markdown",
   "id": "03dd9bab",
   "metadata": {},
   "source": [
    "### Check environments"
   ]
  },
  {
   "cell_type": "code",
   "execution_count": 239,
   "id": "b0e16351",
   "metadata": {},
   "outputs": [
    {
     "name": "stdout",
     "output_type": "stream",
     "text": [
      "--- PyTorch Version ---\n",
      "2.7.0+xpu\n",
      "CUDA Available: False\n",
      "XPU Available: True\n"
     ]
    }
   ],
   "source": [
    "# torch.cuda.is_available()\n",
    "# torch.xpu.is_available()\n",
    "print(\"--- PyTorch Version ---\")\n",
    "print(torch.__version__)\n",
    "print(\"CUDA Available:\", torch.cuda.is_available())\n",
    "print(\"XPU Available:\", torch.xpu.is_available())\n",
    "device = 'cuda' if torch.cuda.is_available() else 'xpu' if torch.xpu.is_available() else 'cpu'"
   ]
  },
  {
   "cell_type": "markdown",
   "id": "d56fb5db",
   "metadata": {},
   "source": [
    "### Create dataset loader"
   ]
  },
  {
   "cell_type": "code",
   "execution_count": 240,
   "id": "2b19dd9a",
   "metadata": {},
   "outputs": [
    {
     "name": "stdout",
     "output_type": "stream",
     "text": [
      "Train class counts: [123 483 122]\n"
     ]
    }
   ],
   "source": [
    "def create_xy(dataset):\n",
    "    xs, ys = [], []\n",
    "    for df in dataset:\n",
    "        x = df.drop(columns=['date', target_column_name]).values\n",
    "        y = df[target_column_name].iloc[-1]\n",
    "        xs.append(x)\n",
    "        ys.append(y)\n",
    "        \n",
    "    return np.array(xs), np.array(ys)\n",
    "\n",
    "# Create xy datasets\n",
    "train_x, train_y = create_xy(train)\n",
    "val_x, val_y = create_xy(val)\n",
    "test_x, test_y = create_xy(test)\n",
    "\n",
    "train_x_tensor = torch.FloatTensor(train_x).to(device)\n",
    "val_x_tensor = torch.FloatTensor(val_x).to(device)\n",
    "test_x_tensor = torch.FloatTensor(test_x).to(device)\n",
    "\n",
    "train_y_tensor = torch.LongTensor(train_y).to(device)\n",
    "val_y_tensor = torch.LongTensor(val_y).to(device)\n",
    "test_y_tensor = torch.LongTensor(test_y).to(device)\n",
    "print(\"Train class counts:\", np.bincount(train_y))"
   ]
  },
  {
   "cell_type": "code",
   "execution_count": 241,
   "id": "f8f940f2",
   "metadata": {},
   "outputs": [],
   "source": [
    "from torch.utils.data import TensorDataset, DataLoader\n",
    "\n",
    "batch_size = 128\n",
    "train_dataset = TensorDataset(train_x_tensor, train_y_tensor)\n",
    "train_loader = DataLoader(train_dataset, batch_size=batch_size, shuffle=False)\n",
    "\n",
    "eval_dataset = TensorDataset(val_x_tensor, val_y_tensor)\n",
    "eval_loader = DataLoader(eval_dataset, batch_size=batch_size, shuffle=False, drop_last=True)\n",
    "\n",
    "test_dataset = TensorDataset(test_x_tensor, test_y_tensor)\n",
    "test_loader = DataLoader(test_dataset, batch_size=batch_size, shuffle=False, drop_last=True)"
   ]
  },
  {
   "cell_type": "markdown",
   "id": "bf7e1f30",
   "metadata": {},
   "source": [
    "### Modeling"
   ]
  },
  {
   "cell_type": "code",
   "execution_count": 242,
   "id": "f616aa1e",
   "metadata": {},
   "outputs": [],
   "source": [
    "import torch.nn as nn\n",
    "import torch.nn.functional as F\n",
    "\n",
    "class FocalLoss(nn.Module):\n",
    "    def __init__(self, gamma=2.0, alpha=None, reduction='mean'):\n",
    "        super(FocalLoss, self).__init__()\n",
    "        self.gamma = gamma\n",
    "        self.alpha = alpha # 클래스 가중치 (alpha)\n",
    "        self.reduction = reduction\n",
    "\n",
    "    def forward(self, inputs, targets):\n",
    "        # inputs: [N, C], targets: [N]\n",
    "        CE_loss = F.cross_entropy(inputs, targets, reduction='none', weight=self.alpha)\n",
    "        pt = torch.exp(-CE_loss)\n",
    "        F_loss = (1 - pt)**self.gamma * CE_loss\n",
    "        \n",
    "        if self.reduction == 'mean':\n",
    "            return F_loss.mean()\n",
    "        elif self.reduction == 'sum':\n",
    "            return F_loss.sum()\n",
    "        else:\n",
    "            return F_loss\n"
   ]
  },
  {
   "cell_type": "code",
   "execution_count": 243,
   "id": "bb74dcbc",
   "metadata": {},
   "outputs": [
    {
     "name": "stdout",
     "output_type": "stream",
     "text": [
      "--- Transformer Model for Regression ---\n",
      "TimeSeriesTransformer(\n",
      "  (encoder): Linear(in_features=35, out_features=128, bias=True)\n",
      "  (pos_encoder): PositionalEncoding(\n",
      "    (dropout): Dropout(p=0.1, inplace=False)\n",
      "  )\n",
      "  (transformer_encoder): TransformerEncoder(\n",
      "    (layers): ModuleList(\n",
      "      (0-3): 4 x TransformerEncoderLayer(\n",
      "        (self_attn): MultiheadAttention(\n",
      "          (out_proj): NonDynamicallyQuantizableLinear(in_features=128, out_features=128, bias=True)\n",
      "        )\n",
      "        (linear1): Linear(in_features=128, out_features=512, bias=True)\n",
      "        (dropout): Dropout(p=0.1, inplace=False)\n",
      "        (linear2): Linear(in_features=512, out_features=128, bias=True)\n",
      "        (norm1): LayerNorm((128,), eps=1e-05, elementwise_affine=True)\n",
      "        (norm2): LayerNorm((128,), eps=1e-05, elementwise_affine=True)\n",
      "        (dropout1): Dropout(p=0.1, inplace=False)\n",
      "        (dropout2): Dropout(p=0.1, inplace=False)\n",
      "      )\n",
      "    )\n",
      "  )\n",
      "  (decoder): Linear(in_features=128, out_features=3, bias=True)\n",
      ")\n"
     ]
    }
   ],
   "source": [
    "import torch.nn as nn\n",
    "import math\n",
    "\n",
    "class PositionalEncoding(nn.Module):\n",
    "    def __init__(self, d_model, dropout=0.1, max_len=5000):\n",
    "        super(PositionalEncoding, self).__init__()\n",
    "        self.dropout = nn.Dropout(p=dropout)\n",
    "        pe = torch.zeros(max_len, d_model)\n",
    "        position = torch.arange(0, max_len, dtype=torch.float).unsqueeze(1)\n",
    "        div_term = torch.exp(torch.arange(0, d_model, 2).float() * (-math.log(10000.0) / d_model))\n",
    "        pe[:, 0::2] = torch.sin(position * div_term)\n",
    "        pe[:, 1::2] = torch.cos(position * div_term)\n",
    "        pe = pe.unsqueeze(0).transpose(0, 1)\n",
    "        self.register_buffer('pe', pe)\n",
    "\n",
    "    def forward(self, x):\n",
    "        x = x + self.pe[:x.size(0), :] # type: ignore\n",
    "        return self.dropout(x)\n",
    "\n",
    "class TimeSeriesTransformer(nn.Module):\n",
    "    # Changed num_classes to output_dim\n",
    "    def __init__(self, input_dim, d_model, nhead, num_layers, output_dim=1, dropout=0.1):\n",
    "        super(TimeSeriesTransformer, self).__init__()\n",
    "        self.d_model = d_model\n",
    "        self.encoder = nn.Linear(input_dim, d_model)\n",
    "        self.pos_encoder = PositionalEncoding(d_model, dropout)\n",
    "        encoder_layers = nn.TransformerEncoderLayer(d_model, nhead, d_model * 4, dropout, batch_first=True)\n",
    "        self.transformer_encoder = nn.TransformerEncoder(encoder_layers, num_layers)\n",
    "        # The decoder now outputs 1 continuous value\n",
    "        self.decoder = nn.Linear(d_model, output_dim)\n",
    "\n",
    "    def forward(self, src):\n",
    "        src = self.encoder(src) * math.sqrt(self.d_model)\n",
    "        src = src.permute(1, 0, 2)\n",
    "        src = self.pos_encoder(src)\n",
    "        src = src.permute(1, 0, 2)\n",
    "        output = self.transformer_encoder(src)\n",
    "        output = output[:, -1, :]\n",
    "        output = self.decoder(output)\n",
    "        return output\n",
    "\n",
    "input_dim = train_x.shape[2]\n",
    "d_model = 128\n",
    "nhead = 4\n",
    "num_layers = 4\n",
    "\n",
    "model = TimeSeriesTransformer(\n",
    "    input_dim=input_dim,\n",
    "    d_model=d_model,\n",
    "    nhead=nhead,\n",
    "    num_layers=num_layers,\n",
    "    output_dim=3,\n",
    "    dropout=0.1\n",
    ").to(device)\n",
    "\n",
    "print(\"--- Transformer Model for Regression ---\")\n",
    "print(model)"
   ]
  },
  {
   "cell_type": "code",
   "execution_count": 244,
   "id": "1dacb1f7",
   "metadata": {},
   "outputs": [],
   "source": [
    "# Early Stopping Implementation\n",
    "class EarlyStopping:\n",
    "    def __init__(self, patience=5, verbose=False, delta: float =0.0, path='checkpoint.pt'):\n",
    "        self.patience = patience\n",
    "        self.verbose = verbose\n",
    "        self.counter = 0\n",
    "        self.best_score = None\n",
    "        self.early_stop = False\n",
    "        self.val_loss_min = np.inf\n",
    "        self.delta = delta\n",
    "        self.path = path\n",
    "\n",
    "    def __call__(self, val_loss, model):\n",
    "        score = -val_loss\n",
    "\n",
    "        if self.best_score is None:\n",
    "            self.best_score = score\n",
    "            self.save_checkpoint(val_loss, model)\n",
    "        elif score < self.best_score + self.delta:\n",
    "            self.counter += 1\n",
    "            if self.verbose and \\\n",
    "            (self.counter == 1 or self.patience // 2 == self.counter or self.counter % 10 == 0):\n",
    "                print(f'EarlyStopping counter: {self.counter}/{self.patience}')\n",
    "            if self.counter >= self.patience:\n",
    "                self.early_stop = True\n",
    "        else:\n",
    "            self.best_score = score\n",
    "            self.save_checkpoint(val_loss, model)\n",
    "            self.counter = 0\n",
    "\n",
    "    def save_checkpoint(self, val_loss, model):\n",
    "        if self.verbose:\n",
    "            print(f'Validation loss decreased ({self.val_loss_min:.6f} -> {val_loss:.6f}). Saving model ...')\n",
    "        torch.save(model.state_dict(), self.path)\n",
    "        self.val_loss_min = val_loss"
   ]
  },
  {
   "cell_type": "code",
   "execution_count": 245,
   "id": "c5597dd2",
   "metadata": {},
   "outputs": [
    {
     "name": "stdout",
     "output_type": "stream",
     "text": [
      "\n",
      "--- Starting model training 🚀 ---\n",
      "Epoch [1/1000], Train Loss: 0.136769, Val Loss: 0.082859\n",
      "Validation loss decreased (inf -> 0.082859). Saving model ...\n",
      "Epoch [2/1000], Train Loss: 0.149275, Val Loss: 0.101853\n",
      "EarlyStopping counter: 1/20\n",
      "Epoch [3/1000], Train Loss: 0.122978, Val Loss: 0.072900\n",
      "Validation loss decreased (0.082859 -> 0.072900). Saving model ...\n",
      "Epoch [4/1000], Train Loss: 0.115882, Val Loss: 0.091409\n",
      "EarlyStopping counter: 1/20\n",
      "Epoch [5/1000], Train Loss: 0.098298, Val Loss: 0.074548\n",
      "Epoch [6/1000], Train Loss: 0.091911, Val Loss: 0.074987\n",
      "Epoch [7/1000], Train Loss: 0.087746, Val Loss: 0.085858\n",
      "Epoch [8/1000], Train Loss: 0.082835, Val Loss: 0.080577\n",
      "Epoch [9/1000], Train Loss: 0.074005, Val Loss: 0.086392\n",
      "Epoch [10/1000], Train Loss: 0.071100, Val Loss: 0.088269\n",
      "Epoch [11/1000], Train Loss: 0.069383, Val Loss: 0.088606\n",
      "Epoch [12/1000], Train Loss: 0.068128, Val Loss: 0.088854\n",
      "Epoch [13/1000], Train Loss: 0.065643, Val Loss: 0.089923\n",
      "EarlyStopping counter: 10/20\n",
      "Epoch [14/1000], Train Loss: 0.065914, Val Loss: 0.091439\n",
      "Epoch [15/1000], Train Loss: 0.067165, Val Loss: 0.092857\n",
      "Epoch [16/1000], Train Loss: 0.064281, Val Loss: 0.093009\n",
      "Epoch [17/1000], Train Loss: 0.063339, Val Loss: 0.093068\n",
      "Epoch [18/1000], Train Loss: 0.063572, Val Loss: 0.093132\n",
      "Epoch [19/1000], Train Loss: 0.064421, Val Loss: 0.093201\n",
      "Epoch [20/1000], Train Loss: 0.064715, Val Loss: 0.093339\n",
      "Epoch [21/1000], Train Loss: 0.065587, Val Loss: 0.093548\n",
      "Epoch [22/1000], Train Loss: 0.063928, Val Loss: 0.093561\n",
      "Epoch [23/1000], Train Loss: 0.064496, Val Loss: 0.093565\n",
      "EarlyStopping counter: 20/20\n",
      "Early stopping triggered. Stopping training.\n"
     ]
    }
   ],
   "source": [
    "# Loss function with class weights and optimizer\n",
    "from torch.optim.lr_scheduler import ReduceLROnPlateau\n",
    "\n",
    "class_counts = np.bincount(train_y)\n",
    "weights = 1. / class_counts\n",
    "weights = weights / weights.sum() \n",
    "weights_tensor = torch.FloatTensor(weights).to(device)\n",
    "eval_class_counts = np.bincount(val_y)\n",
    "eval_weights = 1. / eval_class_counts\n",
    "eval_weights = eval_weights / eval_weights.sum()\n",
    "eval_weights_tensor = torch.FloatTensor(eval_weights).to(device)\n",
    "GAMMA = 0.6\n",
    "criterion = FocalLoss(gamma=GAMMA, alpha=weights_tensor).to(device)\n",
    "eval_criterion = FocalLoss(gamma=GAMMA, alpha=eval_weights_tensor).to(device)\n",
    "\n",
    "# class_counts = np.bincount(train_y)\n",
    "# total_samples = len(train_y)\n",
    "# class_weights = total_samples / (len(class_counts) * class_counts)\n",
    "# weights_tensor = torch.FloatTensor(class_weights).to(device)\n",
    "# criterion = nn.CrossEntropyLoss(weight=weights_tensor)\n",
    "# eval_class_counts = np.bincount(val_y)\n",
    "# eval_total_samples = len(val_y)\n",
    "# eval_class_weights = eval_total_samples / (len(eval_class_counts) * eval_class_counts)\n",
    "# eval_weights_tensor = torch.FloatTensor(class_weights).to(device)\n",
    "# eval_criterion = nn.CrossEntropyLoss(weight=eval_weights_tensor)\n",
    "\n",
    "\n",
    "optimizer = torch.optim.AdamW(model.parameters(), lr=5e-4, weight_decay=0.01)\n",
    "scheduler = ReduceLROnPlateau(optimizer, patience=5)\n",
    "\n",
    "num_epochs = 1000\n",
    "\n",
    "# EarlyStopping setting: if val_loss does not improve for 'patience' epochs, stop training\n",
    "early_stopping = EarlyStopping(patience=20, verbose=True, path=f'{ticker_code}_best_model.pt')\n",
    "\n",
    "\n",
    "print(\"\\n--- Starting model training 🚀 ---\")\n",
    "for epoch in range(num_epochs):\n",
    "    # Model training loop\n",
    "    model.train()\n",
    "    train_loss = 0.0\n",
    "    for batch_X, batch_y in train_loader:\n",
    "        optimizer.zero_grad()\n",
    "        output = model(batch_X)\n",
    "        loss = criterion(output, batch_y)\n",
    "        loss.backward()\n",
    "        optimizer.step()\n",
    "        train_loss += loss.item()\n",
    "\n",
    "    # Model evaluation loop\n",
    "    model.eval()\n",
    "    val_loss = 0.0\n",
    "    with torch.no_grad():\n",
    "        for batch_X, batch_y in eval_loader:\n",
    "            output = model(batch_X)\n",
    "            loss = eval_criterion(output, batch_y)\n",
    "            val_loss += loss.item()\n",
    "\n",
    "    avg_train_loss = train_loss / len(train_loader)\n",
    "    avg_val_loss = val_loss / len(eval_loader)\n",
    "    scheduler.step(avg_val_loss)\n",
    "\n",
    "    print(f'Epoch [{epoch+1}/{num_epochs}], Train Loss: {avg_train_loss:.6f}, Val Loss: {avg_val_loss:.6f}')\n",
    "    \n",
    "    # Early stopping check\n",
    "    early_stopping(avg_val_loss, model)\n",
    "    if early_stopping.early_stop:\n",
    "        print(\"Early stopping triggered. Stopping training.\")\n",
    "        break"
   ]
  },
  {
   "cell_type": "markdown",
   "id": "d2d3431a",
   "metadata": {},
   "source": [
    "### Evaluation"
   ]
  },
  {
   "cell_type": "code",
   "execution_count": 246,
   "id": "d816b0ae",
   "metadata": {},
   "outputs": [
    {
     "name": "stdout",
     "output_type": "stream",
     "text": [
      "\n",
      "--- Final evaluation with the best model ---\n",
      "--- Validation Set Metrics ---\n",
      "Accuracy: 0.1406\n",
      "--- Test Set Metrics ---\n",
      "Accuracy: 0.2031\n",
      "              precision    recall  f1-score   support\n",
      "\n",
      "          하락       0.08      0.29      0.13        17\n",
      "          보합       0.00      0.00      0.00        81\n",
      "          상승       0.31      0.70      0.43        30\n",
      "\n",
      "    accuracy                           0.20       128\n",
      "   macro avg       0.13      0.33      0.19       128\n",
      "weighted avg       0.08      0.20      0.12       128\n",
      "\n"
     ]
    },
    {
     "name": "stderr",
     "output_type": "stream",
     "text": [
      "c:\\Users\\devwo\\miniconda3\\Lib\\site-packages\\sklearn\\metrics\\_classification.py:1565: UndefinedMetricWarning: Precision is ill-defined and being set to 0.0 in labels with no predicted samples. Use `zero_division` parameter to control this behavior.\n",
      "  _warn_prf(average, modifier, f\"{metric.capitalize()} is\", len(result))\n",
      "c:\\Users\\devwo\\miniconda3\\Lib\\site-packages\\sklearn\\metrics\\_classification.py:1565: UndefinedMetricWarning: Precision is ill-defined and being set to 0.0 in labels with no predicted samples. Use `zero_division` parameter to control this behavior.\n",
      "  _warn_prf(average, modifier, f\"{metric.capitalize()} is\", len(result))\n",
      "c:\\Users\\devwo\\miniconda3\\Lib\\site-packages\\sklearn\\metrics\\_classification.py:1565: UndefinedMetricWarning: Precision is ill-defined and being set to 0.0 in labels with no predicted samples. Use `zero_division` parameter to control this behavior.\n",
      "  _warn_prf(average, modifier, f\"{metric.capitalize()} is\", len(result))\n"
     ]
    }
   ],
   "source": [
    "from sklearn.metrics import (\n",
    "    classification_report, \n",
    "    accuracy_score,\n",
    "    mean_squared_error\n",
    ")\n",
    "\n",
    "model.load_state_dict(torch.load(f'{ticker_code}_best_model.pt'))\n",
    "\n",
    "\n",
    "def eval(loader, calssification_report=False):\n",
    "    # Loader for evaluation\n",
    "    model.eval()\n",
    "    all_preds = []\n",
    "    all_labels = []\n",
    "\n",
    "    with torch.no_grad():\n",
    "        for batch_X, batch_y in loader:\n",
    "            output = model(batch_X)\n",
    "            output = torch.argmax(output, dim=1)\n",
    "            all_preds.extend(output.cpu().numpy())\n",
    "            all_labels.extend(batch_y.cpu().numpy())\n",
    "\n",
    "    # Calculate accuracy and classification report\n",
    "    accuracy = accuracy_score(all_labels, all_preds)\n",
    "    print(f'Accuracy: {accuracy:.4f}')\n",
    "    if calssification_report:\n",
    "        print(classification_report(all_labels, all_preds, target_names=['하락', '보합', '상승']))\n",
    "\n",
    "print(\"\\n--- Final evaluation with the best model ---\")\n",
    "print(\"--- Validation Set Metrics ---\")\n",
    "eval(eval_loader)\n",
    "print(\"--- Test Set Metrics ---\")\n",
    "eval(test_loader, True)"
   ]
  },
  {
   "cell_type": "code",
   "execution_count": null,
   "id": "e5ed4c79",
   "metadata": {},
   "outputs": [
    {
     "data": {
      "image/png": "[encoded data removed]",
      "text/plain": [
       "<Figure size 1500x600 with 1 Axes>"
      ]
     },
     "metadata": {},
     "output_type": "display_data"
    },
    {
     "name": "stdout",
     "output_type": "stream",
     "text": [
      "prediction_vs_actual.png 이미지 파일을 확인해보세요.\n"
     ]
    }
   ],
   "source": [
    "import matplotlib.pyplot as plt\n",
    "\n",
    "def get_predictions(loader):\n",
    "    model.eval()\n",
    "    all_preds = []\n",
    "    all_labels = []\n",
    "    with torch.no_grad():\n",
    "        for batch_X, batch_y in loader:\n",
    "            output = model(batch_X)\n",
    "            output = torch.argmax(output, dim=1)\n",
    "            all_preds.extend(output.squeeze().cpu().numpy())\n",
    "            all_labels.extend(batch_y.cpu().numpy())\n",
    "    return np.array(all_labels), np.array(all_preds)\n",
    "\n",
    "# true_values, predictions = get_predictions(train_loader)\n",
    "true_values, predictions = get_predictions(test_loader)\n",
    "# true_values = true_values[:10]\n",
    "# predictions = predictions[:10]\n",
    "\n",
    "plt.figure(figsize=(15, 6))\n",
    "plt.plot(true_values, label='Actual Values', color='blue', alpha=0.3)\n",
    "plt.plot(predictions, label='Model Predictions', color='red', linestyle='--')\n",
    "plt.title('Actual vs. Predicted Values')\n",
    "plt.xlabel('Time')\n",
    "plt.ylabel('Return')\n",
    "plt.legend()\n",
    "plt.grid(True)\n",
    "plt.savefig('prediction_vs_actual.png')\n",
    "plt.show()"
   ]
  },
  {
   "cell_type": "markdown",
   "id": "464646a7",
   "metadata": {},
   "source": [
    "### After Resoning with Gemini"
   ]
  },
  {
   "cell_type": "code",
   "execution_count": null,
   "id": "fd1985d4",
   "metadata": {},
   "outputs": [],
   "source": [
    "# from google import genai\n",
    "# from google.genai import types\n",
    "\n",
    "# client = genai.Client()"
   ]
  }
 ],
 "metadata": {
  "kernelspec": {
   "display_name": "base",
   "language": "python",
   "name": "python3"
  },
  "language_info": {
   "codemirror_mode": {
    "name": "ipython",
    "version": 3
   },
   "file_extension": ".py",
   "mimetype": "text/x-python",
   "name": "python",
   "nbconvert_exporter": "python",
   "pygments_lexer": "ipython3",
   "version": "3.12.3"
  }
 },
 "nbformat": 4,
 "nbformat_minor": 5
}
